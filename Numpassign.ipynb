{
 "cells": [
  {
   "cell_type": "code",
   "execution_count": 2,
   "id": "4c53bb1a-85ac-403c-af30-a1a89ce187c9",
   "metadata": {},
   "outputs": [
    {
     "name": "stdout",
     "output_type": "stream",
     "text": [
      "[160 155 172 165 180 158 175 163 171 168]\n"
     ]
    }
   ],
   "source": [
    "import numpy as np\n",
    "heights = np.array([160, 155, 172, 165, 180, 158, 175, 163, 171, 168])\n",
    "print(heights)\n",
    "# Calculate the mean, median, and standard deviation of the students' heights\n"
   ]
  },
  {
   "cell_type": "code",
   "execution_count": 4,
   "id": "7fd4c1d1-e3c5-49ea-bfe7-0d7d7ae42569",
   "metadata": {},
   "outputs": [
    {
     "name": "stdout",
     "output_type": "stream",
     "text": [
      "166.7\n",
      "166.5\n",
      "7.5372408744845085\n"
     ]
    }
   ],
   "source": [
    "# Calculate the mean, median, and standard deviation of the students' heights\n",
    "mean = np.mean(heights)\n",
    "print(mean)\n",
    "median = np.median(heights)\n",
    "print(median)\n",
    "standard_deviation = np.std(heights)\n",
    "print(standard_deviation)"
   ]
  },
  {
   "cell_type": "code",
   "execution_count": 6,
   "id": "aa91bda5-2c51-44a4-996e-053191ad6f83",
   "metadata": {},
   "outputs": [
    {
     "name": "stdout",
     "output_type": "stream",
     "text": [
      "[-0.88891945 -1.55229217  0.70317509 -0.22554673  1.76457144 -1.15426854\n",
      "  1.10119872 -0.49089581  0.57050054  0.17247691]\n"
     ]
    }
   ],
   "source": [
    "# Create a new array with the heights normalized, i.e., each height value should be transformed to have a mean of 0 and a standard deviation of 1.\n",
    "normalized_heights = (heights - mean)/ standard_deviation\n",
    "print(normalized_heights)\n",
    "\n"
   ]
  },
  {
   "cell_type": "code",
   "execution_count": 9,
   "id": "d32be247-f03e-40dc-b175-54ced0567d4a",
   "metadata": {},
   "outputs": [
    {
     "name": "stdout",
     "output_type": "stream",
     "text": [
      "4\n",
      "1\n"
     ]
    }
   ],
   "source": [
    "# Determine the tallest and shortest students in the class using NumPy's argmax and argmin functions\n",
    "tallest_student = np.argmax(heights)\n",
    "print(tallest_student)\n",
    "shortest_student = np.argmin(heights)\n",
    "print(shortest_student)\n"
   ]
  },
  {
   "cell_type": "code",
   "execution_count": 13,
   "id": "8f81a672-5561-4a8a-b230-feccaba267fb",
   "metadata": {},
   "outputs": [
    {
     "name": "stdout",
     "output_type": "stream",
     "text": [
      "25\n",
      "Height difference: 25 cm\n"
     ]
    }
   ],
   "source": [
    "# Calculate the difference between the tallest and shortest students' heights.\n",
    "tallest = np.max(heights)\n",
    "shortest = np.min(heights)\n",
    "height_diff = tallest - shortest\n",
    "print(height_diff)\n",
    "\n",
    "height_dif = heights[tallest_student] - heights[shortest_student]\n",
    "print(f\"Height difference: {height_dif} cm\")"
   ]
  },
  {
   "cell_type": "code",
   "execution_count": 14,
   "id": "4865efd8-ed68-4b7c-8be1-885c45c7a9c7",
   "metadata": {},
   "outputs": [
    {
     "name": "stdout",
     "output_type": "stream",
     "text": [
      "[171 172 163 158 180]\n"
     ]
    }
   ],
   "source": [
    "# Randomly select 5 heights from the dataset without replacement\n",
    "radd = np.random.choice(heights, 5, replace=False)\n",
    "print(radd)"
   ]
  },
  {
   "cell_type": "code",
   "execution_count": 15,
   "id": "be25f1e1-2950-4402-b06b-1fb3a74f75e5",
   "metadata": {},
   "outputs": [
    {
     "name": "stdout",
     "output_type": "stream",
     "text": [
      "[WinError 3] The system cannot find the path specified: '/c/Users/Victor/'\n",
      "C:\\Users\\Victor\n"
     ]
    }
   ],
   "source": [
    "cd \"/c/Users/Victor/\"\n"
   ]
  },
  {
   "cell_type": "code",
   "execution_count": null,
   "id": "64eda615-30f2-4fe7-b7b0-e1dd4dd3724c",
   "metadata": {},
   "outputs": [],
   "source": []
  }
 ],
 "metadata": {
  "kernelspec": {
   "display_name": "Python 3 (ipykernel)",
   "language": "python",
   "name": "python3"
  },
  "language_info": {
   "codemirror_mode": {
    "name": "ipython",
    "version": 3
   },
   "file_extension": ".py",
   "mimetype": "text/x-python",
   "name": "python",
   "nbconvert_exporter": "python",
   "pygments_lexer": "ipython3",
   "version": "3.11.5"
  }
 },
 "nbformat": 4,
 "nbformat_minor": 5
}
